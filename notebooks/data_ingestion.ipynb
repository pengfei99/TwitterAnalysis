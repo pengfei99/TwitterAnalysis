{
 "cells": [
  {
   "cell_type": "markdown",
   "metadata": {
    "jupyter": {
     "outputs_hidden": true
    },
    "pycharm": {
     "name": "#%%\n"
    }
   },
   "source": [
    "# In this notebook, we will search some twitte message"
   ]
  },
  {
   "cell_type": "markdown",
   "metadata": {},
   "source": [
    "# Pre-requise: Create twitter developer account and generate api credentials\n",
    "Step 1: Apply for a Twitter Developer Account\n",
    "\n",
    "Go to the Twitter developer site to apply for a developer account. Here, you have to select the Twitter user responsible for this account. It should probably be you or your organization. Here’s what this page looks like:\n",
    "\n"
   ]
  },
  {
   "cell_type": "code",
   "execution_count": 67,
   "metadata": {},
   "outputs": [],
   "source": [
    "import tweepy as tw\n",
    "import json\n",
    "import pandas as pd\n",
    "import pyarrow.parquet as pq\n",
    "import s3fs\n",
    "from pyarrow import fs\n",
    "import pyarrow as pa\n",
    "import os\n",
    "from datetime import date"
   ]
  },
  {
   "cell_type": "markdown",
   "metadata": {},
   "source": [
    "# Download tweets\n",
    "## Step1. Setup the twitter api credential\n"
   ]
  },
  {
   "cell_type": "code",
   "execution_count": 85,
   "metadata": {},
   "outputs": [],
   "source": [
    "consumer_key = \"changeMe\"\n",
    "consumer_secret = \"changeMe\"\n",
    "access_token = \"changeMe\"\n",
    "access_token_secret = \"changeMe\""
   ]
  },
  {
   "cell_type": "markdown",
   "metadata": {},
   "source": [
    "## Step2. Create an instance of the twitter client"
   ]
  },
  {
   "cell_type": "code",
   "execution_count": 3,
   "metadata": {},
   "outputs": [],
   "source": [
    "client_auth = tw.OAuthHandler(consumer_key, consumer_secret)\n",
    "client_auth.set_access_token(access_token, access_token_secret)\n",
    "api = tw.API(client_auth, wait_on_rate_limit=True, retry_count=5, retry_delay=1)"
   ]
  },
  {
   "cell_type": "code",
   "execution_count": 4,
   "metadata": {},
   "outputs": [
    {
     "name": "stdout",
     "output_type": "stream",
     "text": [
      "Authentication OK\n"
     ]
    }
   ],
   "source": [
    "try:\n",
    "    api.verify_credentials()\n",
    "    print(\"Authentication OK\")\n",
    "except Exception as e:\n",
    "    print(\"Error during authentication\")"
   ]
  },
  {
   "cell_type": "markdown",
   "metadata": {},
   "source": [
    "## Step3. Get tweets that you are intrested in \n",
    "\n",
    "We have created the twitter client, now we are ready to search the tweets messages. Here we use the search_tweets to find all the tweets that contains certain key words of certain language. We don't use date to filter tweets because the search index has a 7-day limit. In other words, no tweets will be found for a date older than one week.\n",
    "For more details about the search_tweets\n",
    "https://docs.tweepy.org/en/stable/api.html?highlight=search%20tweet#tweepy.API.search_tweets\n",
    "\n",
    "If you want to search older tweets, you can use the search_full_archive method.\n",
    "https://docs.tweepy.org/en/stable/api.html?highlight=search%20tweet#tweepy.API.search_full_archive\n",
    "\n"
   ]
  },
  {
   "cell_type": "markdown",
   "metadata": {},
   "source": [
    "### Configure the search filter"
   ]
  },
  {
   "cell_type": "code",
   "execution_count": 40,
   "metadata": {},
   "outputs": [],
   "source": [
    "# filter the search result by using below key words \n",
    "search_words = \"#insee\"\n",
    "# We can get tweet before certain date\n",
    "# until_date = \"2021-11-24\n",
    "# specify the \n",
    "language=\"fr\"\n",
    "# the max tweet number will be retained in the result\n",
    "max_tweet_count=1000000"
   ]
  },
  {
   "cell_type": "code",
   "execution_count": null,
   "metadata": {},
   "outputs": [],
   "source": [
    "# Get the tweets\n",
    "tweets = api.search_tweets(q=search_words,lang=\"fr\",result_type=\"mixed\", count=max_tweet_count)\n",
    "\n",
    "# tweets is a list of object status, which has an attribute _json which is the actual tweet in json string.\n",
    "print(tweets[0]._json)\n"
   ]
  },
  {
   "cell_type": "code",
   "execution_count": 49,
   "metadata": {},
   "outputs": [
    {
     "name": "stdout",
     "output_type": "stream",
     "text": [
      "name:V. RICHES-FLORES | message: https://t.co/2nt1wV9P6U\n",
      "RFR - L’inflation arrive en France #france #croissance #inflation #insee #conjoncture… https://t.co/s47ETAqWBO | date:Wed Nov 24 13:38:12 +0000 2021\n"
     ]
    }
   ],
   "source": [
    "# For example, if we want to get the name of the sender, date and text of a tweet\n",
    "\n",
    "tweet_dict=tweets[0]._json\n",
    "text=tweet_dict.get(\"text\")\n",
    "user_name=tweet_dict.get(\"user\").get(\"name\")\n",
    "date=tweet_dict.get(\"created_at\")\n",
    "print(f\"name:{user_name} | message: {text} | date:{date}\")"
   ]
  },
  {
   "cell_type": "markdown",
   "metadata": {},
   "source": [
    "## Step4. Generate a data frame \n",
    "\n",
    "Now we have the tweet, we want to generate a dataframe based on the tweet "
   ]
  },
  {
   "cell_type": "code",
   "execution_count": 61,
   "metadata": {},
   "outputs": [],
   "source": [
    "\n",
    "def generate_tweet_df(tweets):\n",
    "     # init dataframe\n",
    "    df = pd.DataFrame(columns=['name','date','text'])\n",
    "    index=0\n",
    "    for tweet in tweets:\n",
    "        # get column value for each tweet\n",
    "        tweet_dict=tweet._json\n",
    "        text=tweet_dict.get(\"text\")\n",
    "        user_name=tweet_dict.get(\"user\").get(\"name\")\n",
    "        date=tweet_dict.get(\"created_at\")\n",
    "        # add new row to the dataframe\n",
    "        df.loc[index] = pd.Series({'name':user_name, 'date':date, 'text':text})\n",
    "        index=index+1\n",
    "    return df\n",
    "       \n",
    "        "
   ]
  },
  {
   "cell_type": "code",
   "execution_count": 62,
   "metadata": {},
   "outputs": [],
   "source": [
    "df=generate_tweet_df(tweets)"
   ]
  },
  {
   "cell_type": "code",
   "execution_count": 71,
   "metadata": {},
   "outputs": [
    {
     "data": {
      "text/html": [
       "<div>\n",
       "<style scoped>\n",
       "    .dataframe tbody tr th:only-of-type {\n",
       "        vertical-align: middle;\n",
       "    }\n",
       "\n",
       "    .dataframe tbody tr th {\n",
       "        vertical-align: top;\n",
       "    }\n",
       "\n",
       "    .dataframe thead th {\n",
       "        text-align: right;\n",
       "    }\n",
       "</style>\n",
       "<table border=\"1\" class=\"dataframe\">\n",
       "  <thead>\n",
       "    <tr style=\"text-align: right;\">\n",
       "      <th></th>\n",
       "      <th>name</th>\n",
       "      <th>date</th>\n",
       "      <th>text</th>\n",
       "    </tr>\n",
       "  </thead>\n",
       "  <tbody>\n",
       "    <tr>\n",
       "      <th>0</th>\n",
       "      <td>V. RICHES-FLORES</td>\n",
       "      <td>Wed Nov 24 13:38:12 +0000 2021</td>\n",
       "      <td>https://t.co/2nt1wV9P6U\\nRFR - L’inflation arr...</td>\n",
       "    </tr>\n",
       "    <tr>\n",
       "      <th>1</th>\n",
       "      <td>Drecfire 🥕🥕🥕</td>\n",
       "      <td>Wed Nov 24 12:57:15 +0000 2021</td>\n",
       "      <td>RT @blaisegrenier: Nous ferons un point d'ici ...</td>\n",
       "    </tr>\n",
       "    <tr>\n",
       "      <th>2</th>\n",
       "      <td>Takeo</td>\n",
       "      <td>Wed Nov 24 11:30:40 +0000 2021</td>\n",
       "      <td>Nous ferons un point d'ici quelques temps en c...</td>\n",
       "    </tr>\n",
       "    <tr>\n",
       "      <th>3</th>\n",
       "      <td>Thierry Bès</td>\n",
       "      <td>Wed Nov 24 10:16:40 +0000 2021</td>\n",
       "      <td>RT @RichardEudes: En novembre 2021, le climat ...</td>\n",
       "    </tr>\n",
       "    <tr>\n",
       "      <th>4</th>\n",
       "      <td>Ellisphere</td>\n",
       "      <td>Wed Nov 24 08:12:08 +0000 2021</td>\n",
       "      <td>RT @RichardEudes: En novembre 2021, le climat ...</td>\n",
       "    </tr>\n",
       "    <tr>\n",
       "      <th>5</th>\n",
       "      <td>Richard Eudes, PhD</td>\n",
       "      <td>Wed Nov 24 07:57:44 +0000 2021</td>\n",
       "      <td>En novembre 2021, le climat des affaires dans ...</td>\n",
       "    </tr>\n",
       "    <tr>\n",
       "      <th>6</th>\n",
       "      <td>Richard Eudes, PhD</td>\n",
       "      <td>Wed Nov 24 07:57:42 +0000 2021</td>\n",
       "      <td>En novembre 2021, le climat des affaires dans ...</td>\n",
       "    </tr>\n",
       "    <tr>\n",
       "      <th>7</th>\n",
       "      <td>Richard Eudes, PhD</td>\n",
       "      <td>Wed Nov 24 07:57:41 +0000 2021</td>\n",
       "      <td>En novembre 2021, le climat des affaires du co...</td>\n",
       "    </tr>\n",
       "    <tr>\n",
       "      <th>8</th>\n",
       "      <td>Richard Eudes, PhD</td>\n",
       "      <td>Wed Nov 24 07:57:39 +0000 2021</td>\n",
       "      <td>En novembre 2021, le climat des affaires dans ...</td>\n",
       "    </tr>\n",
       "    <tr>\n",
       "      <th>9</th>\n",
       "      <td>Richard Eudes, PhD</td>\n",
       "      <td>Wed Nov 24 07:57:38 +0000 2021</td>\n",
       "      <td>En novembre 2021, le climat des affaires en Fr...</td>\n",
       "    </tr>\n",
       "  </tbody>\n",
       "</table>\n",
       "</div>"
      ],
      "text/plain": [
       "                 name                            date  \\\n",
       "0    V. RICHES-FLORES  Wed Nov 24 13:38:12 +0000 2021   \n",
       "1        Drecfire 🥕🥕🥕  Wed Nov 24 12:57:15 +0000 2021   \n",
       "2               Takeo  Wed Nov 24 11:30:40 +0000 2021   \n",
       "3         Thierry Bès  Wed Nov 24 10:16:40 +0000 2021   \n",
       "4          Ellisphere  Wed Nov 24 08:12:08 +0000 2021   \n",
       "5  Richard Eudes, PhD  Wed Nov 24 07:57:44 +0000 2021   \n",
       "6  Richard Eudes, PhD  Wed Nov 24 07:57:42 +0000 2021   \n",
       "7  Richard Eudes, PhD  Wed Nov 24 07:57:41 +0000 2021   \n",
       "8  Richard Eudes, PhD  Wed Nov 24 07:57:39 +0000 2021   \n",
       "9  Richard Eudes, PhD  Wed Nov 24 07:57:38 +0000 2021   \n",
       "\n",
       "                                                text  \n",
       "0  https://t.co/2nt1wV9P6U\\nRFR - L’inflation arr...  \n",
       "1  RT @blaisegrenier: Nous ferons un point d'ici ...  \n",
       "2  Nous ferons un point d'ici quelques temps en c...  \n",
       "3  RT @RichardEudes: En novembre 2021, le climat ...  \n",
       "4  RT @RichardEudes: En novembre 2021, le climat ...  \n",
       "5  En novembre 2021, le climat des affaires dans ...  \n",
       "6  En novembre 2021, le climat des affaires dans ...  \n",
       "7  En novembre 2021, le climat des affaires du co...  \n",
       "8  En novembre 2021, le climat des affaires dans ...  \n",
       "9  En novembre 2021, le climat des affaires en Fr...  "
      ]
     },
     "execution_count": 71,
     "metadata": {},
     "output_type": "execute_result"
    }
   ],
   "source": [
    "df.head(10)"
   ]
  },
  {
   "cell_type": "markdown",
   "metadata": {},
   "source": [
    "## Step 5. Write data frame on s3\n",
    "\n",
    "We have the data frame, now we want to save the data frame on s3. We want to save the data frame in format parquet. Because it has an integrated schema."
   ]
  },
  {
   "cell_type": "markdown",
   "metadata": {},
   "source": [
    "### 5.1 Configure s3 connection\n",
    "\n",
    "Here we will set the s3 credential and the output path of the parquet file. As we will generate a parquet file each day. We would like to have the generation date inside the file name.\n"
   ]
  },
  {
   "cell_type": "code",
   "execution_count": 78,
   "metadata": {},
   "outputs": [],
   "source": [
    "endpoint = os.environ['AWS_S3_ENDPOINT']\n",
    "bucket = \"pengfei\"\n",
    "current_date=date.today().strftime(\"%d-%m-%Y\")\n",
    "output_path = f\"diffusion/demo_prod/tweet_{current_date}\"\n"
   ]
  },
  {
   "cell_type": "markdown",
   "metadata": {},
   "source": [
    "### 5.2 Write df to s3 as parquet file"
   ]
  },
  {
   "cell_type": "code",
   "execution_count": 79,
   "metadata": {},
   "outputs": [],
   "source": [
    "# This function write a pandas dataframe to s3 in parquet format\n",
    "def write_df_to_s3(df, endpoint, bucket_name, path):\n",
    "    # Convert pandas df to Arrow table\n",
    "    table = pa.Table.from_pandas(df)\n",
    "    url = f\"https://{endpoint}\"\n",
    "    fs = s3fs.S3FileSystem(client_kwargs={'endpoint_url': url})\n",
    "    file_uri = f\"{bucket_name}/{path}\"\n",
    "    pq.write_to_dataset(table, root_path=file_uri, filesystem=fs)"
   ]
  },
  {
   "cell_type": "code",
   "execution_count": 80,
   "metadata": {},
   "outputs": [],
   "source": [
    "write_df_to_s3(df,endpoint,bucket,output_path)"
   ]
  },
  {
   "cell_type": "markdown",
   "metadata": {},
   "source": [
    "## 6. Test the output parquet file"
   ]
  },
  {
   "cell_type": "code",
   "execution_count": 81,
   "metadata": {},
   "outputs": [],
   "source": [
    "# This function read a parquet file and return a arrow table\n",
    "def read_parquet_from_s3(endpoint: str, bucket_name, path):\n",
    "    url = f\"https://{endpoint}\"\n",
    "    fs = s3fs.S3FileSystem(client_kwargs={'endpoint_url': url})\n",
    "    file_uri = f\"{bucket_name}/{path}\"\n",
    "    str_info = fs.info(file_uri)\n",
    "    print(f\"input file metadata: {str_info}\")\n",
    "    dataset = pq.ParquetDataset(file_uri, filesystem=fs)\n",
    "    table = dataset.read()\n",
    "    return table"
   ]
  },
  {
   "cell_type": "code",
   "execution_count": 84,
   "metadata": {},
   "outputs": [
    {
     "name": "stdout",
     "output_type": "stream",
     "text": [
      "input file metadata: {'name': 'pengfei/diffusion/demo_prod/tweet_24-11-2021', 'size': 0, 'type': 'directory'}\n"
     ]
    },
    {
     "data": {
      "text/html": [
       "<div>\n",
       "<style scoped>\n",
       "    .dataframe tbody tr th:only-of-type {\n",
       "        vertical-align: middle;\n",
       "    }\n",
       "\n",
       "    .dataframe tbody tr th {\n",
       "        vertical-align: top;\n",
       "    }\n",
       "\n",
       "    .dataframe thead th {\n",
       "        text-align: right;\n",
       "    }\n",
       "</style>\n",
       "<table border=\"1\" class=\"dataframe\">\n",
       "  <thead>\n",
       "    <tr style=\"text-align: right;\">\n",
       "      <th></th>\n",
       "      <th>name</th>\n",
       "      <th>date</th>\n",
       "      <th>text</th>\n",
       "    </tr>\n",
       "  </thead>\n",
       "  <tbody>\n",
       "    <tr>\n",
       "      <th>0</th>\n",
       "      <td>V. RICHES-FLORES</td>\n",
       "      <td>Wed Nov 24 13:38:12 +0000 2021</td>\n",
       "      <td>https://t.co/2nt1wV9P6U\\nRFR - L’inflation arr...</td>\n",
       "    </tr>\n",
       "    <tr>\n",
       "      <th>1</th>\n",
       "      <td>Drecfire 🥕🥕🥕</td>\n",
       "      <td>Wed Nov 24 12:57:15 +0000 2021</td>\n",
       "      <td>RT @blaisegrenier: Nous ferons un point d'ici ...</td>\n",
       "    </tr>\n",
       "    <tr>\n",
       "      <th>2</th>\n",
       "      <td>Takeo</td>\n",
       "      <td>Wed Nov 24 11:30:40 +0000 2021</td>\n",
       "      <td>Nous ferons un point d'ici quelques temps en c...</td>\n",
       "    </tr>\n",
       "    <tr>\n",
       "      <th>3</th>\n",
       "      <td>Thierry Bès</td>\n",
       "      <td>Wed Nov 24 10:16:40 +0000 2021</td>\n",
       "      <td>RT @RichardEudes: En novembre 2021, le climat ...</td>\n",
       "    </tr>\n",
       "    <tr>\n",
       "      <th>4</th>\n",
       "      <td>Ellisphere</td>\n",
       "      <td>Wed Nov 24 08:12:08 +0000 2021</td>\n",
       "      <td>RT @RichardEudes: En novembre 2021, le climat ...</td>\n",
       "    </tr>\n",
       "  </tbody>\n",
       "</table>\n",
       "</div>"
      ],
      "text/plain": [
       "               name                            date  \\\n",
       "0  V. RICHES-FLORES  Wed Nov 24 13:38:12 +0000 2021   \n",
       "1      Drecfire 🥕🥕🥕  Wed Nov 24 12:57:15 +0000 2021   \n",
       "2             Takeo  Wed Nov 24 11:30:40 +0000 2021   \n",
       "3       Thierry Bès  Wed Nov 24 10:16:40 +0000 2021   \n",
       "4        Ellisphere  Wed Nov 24 08:12:08 +0000 2021   \n",
       "\n",
       "                                                text  \n",
       "0  https://t.co/2nt1wV9P6U\\nRFR - L’inflation arr...  \n",
       "1  RT @blaisegrenier: Nous ferons un point d'ici ...  \n",
       "2  Nous ferons un point d'ici quelques temps en c...  \n",
       "3  RT @RichardEudes: En novembre 2021, le climat ...  \n",
       "4  RT @RichardEudes: En novembre 2021, le climat ...  "
      ]
     },
     "execution_count": 84,
     "metadata": {},
     "output_type": "execute_result"
    }
   ],
   "source": [
    "arrow_table=read_parquet_from_s3(endpoint,bucket,output_path)\n",
    "\n",
    "# Convert back to pandas\n",
    "df_new = arrow_table.to_pandas()\n",
    "df_new.head()"
   ]
  },
  {
   "cell_type": "code",
   "execution_count": null,
   "metadata": {},
   "outputs": [],
   "source": []
  }
 ],
 "metadata": {
  "kernelspec": {
   "display_name": "Python 3 (ipykernel)",
   "language": "python",
   "name": "python3"
  },
  "language_info": {
   "codemirror_mode": {
    "name": "ipython",
    "version": 3
   },
   "file_extension": ".py",
   "mimetype": "text/x-python",
   "name": "python",
   "nbconvert_exporter": "python",
   "pygments_lexer": "ipython3",
   "version": "3.9.7"
  }
 },
 "nbformat": 4,
 "nbformat_minor": 4
}
