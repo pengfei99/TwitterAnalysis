{
 "cells": [
  {
   "cell_type": "markdown",
   "metadata": {
    "jupyter": {
     "outputs_hidden": true
    },
    "pycharm": {
     "name": "#%%\n"
    }
   },
   "source": [
    "# In this notebook, we will search some twitte message"
   ]
  },
  {
   "cell_type": "markdown",
   "metadata": {},
   "source": [
    "# Pre-requise: Create twitter developer account and generate api credentials\n",
    "Step 1: Apply for a Twitter Developer Account\n",
    "\n",
    "Go to the Twitter developer site to apply for a developer account. Here, you have to select the Twitter user responsible for this account. It should probably be you or your organization. Here’s what this page looks like:\n",
    "\n"
   ]
  },
  {
   "cell_type": "code",
   "execution_count": 13,
   "metadata": {},
   "outputs": [],
   "source": [
    "import tweepy as tw\n",
    "import json"
   ]
  },
  {
   "cell_type": "markdown",
   "metadata": {},
   "source": [
    "# Download tweets\n",
    "## Step1. Setup the twitter api credential\n"
   ]
  },
  {
   "cell_type": "code",
   "execution_count": 2,
   "metadata": {},
   "outputs": [],
   "source": [
    "consumer_key = \"9F2cDP6mBO001MJtFyLybWGqT\"\n",
    "consumer_secret = \"czoiPDtFaNrUboAQEPPXpb9EMwbTgW7WB6bZYxpBljy2Ozqrqc\"\n",
    "access_token = \"207529473-0NYW8AbMELgWLUOtB8zCLYKSH2T3BPzb4iqr15Df\"\n",
    "access_token_secret = \"TsIFoTd0yILe2pIjDczFf56ocDzxoQfaGxnDS10asw8qz\""
   ]
  },
  {
   "cell_type": "markdown",
   "metadata": {},
   "source": [
    "## Step2. Create an instance of the twitter client"
   ]
  },
  {
   "cell_type": "code",
   "execution_count": 3,
   "metadata": {},
   "outputs": [],
   "source": [
    "client_auth = tw.OAuthHandler(consumer_key, consumer_secret)\n",
    "client_auth.set_access_token(access_token, access_token_secret)\n",
    "api = tw.API(client_auth, wait_on_rate_limit=True, retry_count=5, retry_delay=1)"
   ]
  },
  {
   "cell_type": "code",
   "execution_count": 4,
   "metadata": {},
   "outputs": [
    {
     "name": "stdout",
     "output_type": "stream",
     "text": [
      "Authentication OK\n"
     ]
    }
   ],
   "source": [
    "try:\n",
    "    api.verify_credentials()\n",
    "    print(\"Authentication OK\")\n",
    "except Exception as e:\n",
    "    print(\"Error during authentication\")"
   ]
  },
  {
   "cell_type": "markdown",
   "metadata": {},
   "source": [
    "## Step3. Get tweets that you are intrested in \n",
    "\n",
    "We have created the twitter client, now we are ready to search the tweets messages. Here we use the search_tweets to find all the tweets that contains certain key words of certain language. We don't use date to filter tweets because the search index has a 7-day limit. In other words, no tweets will be found for a date older than one week.\n",
    "For more details about the search_tweets\n",
    "https://docs.tweepy.org/en/stable/api.html?highlight=search%20tweet#tweepy.API.search_tweets\n",
    "\n",
    "If you want to search older tweets, you can use the search_full_archive method.\n",
    "https://docs.tweepy.org/en/stable/api.html?highlight=search%20tweet#tweepy.API.search_full_archive"
   ]
  },
  {
   "cell_type": "code",
   "execution_count": 28,
   "metadata": {},
   "outputs": [],
   "source": [
    "# filter the search result by using key words and date\n",
    "search_words = \"#insee\"\n",
    "# date_since = \"2021-11-24\n",
    "language=\"fr\""
   ]
  },
  {
   "cell_type": "code",
   "execution_count": 36,
   "metadata": {},
   "outputs": [
    {
     "name": "stdout",
     "output_type": "stream",
     "text": [
      "{'created_at': 'Wed Nov 24 13:38:12 +0000 2021', 'id': 1463502210285940736, 'id_str': '1463502210285940736', 'text': 'https://t.co/2nt1wV9P6U\\nRFR - L’inflation arrive en France #france #croissance #inflation #insee #conjoncture… https://t.co/s47ETAqWBO', 'truncated': True, 'entities': {'hashtags': [{'text': 'france', 'indices': [59, 66]}, {'text': 'croissance', 'indices': [67, 78]}, {'text': 'inflation', 'indices': [79, 89]}, {'text': 'insee', 'indices': [90, 96]}, {'text': 'conjoncture', 'indices': [97, 109]}], 'symbols': [], 'user_mentions': [], 'urls': [{'url': 'https://t.co/2nt1wV9P6U', 'expanded_url': 'https://richesflores.com/?p=15494', 'display_url': 'richesflores.com/?p=15494', 'indices': [0, 23]}, {'url': 'https://t.co/s47ETAqWBO', 'expanded_url': 'https://twitter.com/i/web/status/1463502210285940736', 'display_url': 'twitter.com/i/web/status/1…', 'indices': [111, 134]}]}, 'metadata': {'iso_language_code': 'fr', 'result_type': 'recent'}, 'source': '<a href=\"https://richesflores.com\" rel=\"nofollow\">RichesFlores Research News</a>', 'in_reply_to_status_id': None, 'in_reply_to_status_id_str': None, 'in_reply_to_user_id': None, 'in_reply_to_user_id_str': None, 'in_reply_to_screen_name': None, 'user': {'id': 599541138, 'id_str': '599541138', 'name': 'V. RICHES-FLORES', 'screen_name': 'richesflores', 'location': 'Paris', 'description': 'Economiste, Fondatrice de RICHESFLORES RESEARCH Prospective Economique et Financière Internationale', 'url': 'http://t.co/ADOkZ4RJjd', 'entities': {'url': {'urls': [{'url': 'http://t.co/ADOkZ4RJjd', 'expanded_url': 'http://richesflores.com', 'display_url': 'richesflores.com', 'indices': [0, 22]}]}, 'description': {'urls': []}}, 'protected': False, 'followers_count': 1564, 'friends_count': 174, 'listed_count': 37, 'created_at': 'Mon Jun 04 18:33:16 +0000 2012', 'favourites_count': 309, 'utc_offset': None, 'time_zone': None, 'geo_enabled': False, 'verified': False, 'statuses_count': 1605, 'lang': None, 'contributors_enabled': False, 'is_translator': False, 'is_translation_enabled': False, 'profile_background_color': '000000', 'profile_background_image_url': 'http://abs.twimg.com/images/themes/theme1/bg.png', 'profile_background_image_url_https': 'https://abs.twimg.com/images/themes/theme1/bg.png', 'profile_background_tile': False, 'profile_image_url': 'http://pbs.twimg.com/profile_images/816347103618338820/rSwJHcrF_normal.jpg', 'profile_image_url_https': 'https://pbs.twimg.com/profile_images/816347103618338820/rSwJHcrF_normal.jpg', 'profile_link_color': 'FF691F', 'profile_sidebar_border_color': '000000', 'profile_sidebar_fill_color': '000000', 'profile_text_color': '000000', 'profile_use_background_image': False, 'has_extended_profile': False, 'default_profile': False, 'default_profile_image': False, 'following': False, 'follow_request_sent': False, 'notifications': False, 'translator_type': 'none', 'withheld_in_countries': []}, 'geo': None, 'coordinates': None, 'place': None, 'contributors': None, 'is_quote_status': False, 'retweet_count': 0, 'favorite_count': 1, 'favorited': False, 'retweeted': False, 'possibly_sensitive': False, 'lang': 'fr'}\n",
      "name:V. RICHES-FLORES, message: https://t.co/2nt1wV9P6U\n",
      "RFR - L’inflation arrive en France #france #croissance #inflation #insee #conjoncture… https://t.co/s47ETAqWBO\n",
      "name:Drecfire 🥕🥕🥕, message: RT @blaisegrenier: Nous ferons un point d'ici quelques temps en corrélant les données #DREES #ANSM #INSEE #Eudravigilance, études #thelance…\n",
      "name:Takeo, message: Nous ferons un point d'ici quelques temps en corrélant les données #DREES #ANSM #INSEE #Eudravigilance, études… https://t.co/RDsjgVHv1s\n",
      "name:Thierry Bès, message: RT @RichardEudes: En novembre 2021, le climat des affaires dans l’ensemble du commerce de détail et d’automobiles s’améliore de nouveau : l…\n",
      "name:Ellisphere, message: RT @RichardEudes: En novembre 2021, le climat des affaires dans l’ensemble du commerce de détail et d’automobiles s’améliore de nouveau : l…\n",
      "name:Richard Eudes, PhD, message: En novembre 2021, le climat des affaires dans le bâtiment est très favorable malgré les contraintes d’offre : les S… https://t.co/Sv4JHiyRuE\n",
      "name:Richard Eudes, PhD, message: En novembre 2021, le climat des affaires dans l’ensemble du commerce de détail et d’automobiles s’améliore de nouve… https://t.co/TxBEBmv9q4\n",
      "name:Richard Eudes, PhD, message: En novembre 2021, le climat des affaires du commerce de gros rebondit : les Statistiques de l'@InseeFr… https://t.co/GLiDq3XeiU\n",
      "name:Richard Eudes, PhD, message: En novembre 2021, le climat des affaires dans l’industrie est tiré à la hausse par les carnets de commandes : les S… https://t.co/Sm8BvEBeHP\n",
      "name:Richard Eudes, PhD, message: En novembre 2021, le climat des affaires en France et le climat de l’emploi s’améliorent de nouveau : les Statistiq… https://t.co/s1JP4Wz9ev\n",
      "name:Richard Eudes, PhD, message: En novembre 2021, le climat des affaires poursuit sa hausse dans les services : les Statistiques de l'@InseeFr… https://t.co/im7SrjtfBN\n",
      "name:Sébastien Seguin, message: RT @InseeOI: [#Parution] #Insee Flash #LaRéunion n° 215\n",
      "📖 Les prix à la consommation augmentent de 0,4 % en octobre 2021\n",
      "👉 https://t.co/VFD…\n",
      "name:Sébastien Seguin, message: RT @InseeOI: [#Parution] #Insee Flash #Mayotte n° 129\n",
      "📖 En octobre 2021, les prix à la consommation baissent de 0,2 %\n",
      "👉 https://t.co/0SNaAf…\n",
      "name:Pierre THIBAULT, message: RT @InseeOI: [#Parution] #Insee Flash #LaRéunion n° 215\n",
      "📖 Les prix à la consommation augmentent de 0,4 % en octobre 2021\n",
      "👉 https://t.co/VFD…\n",
      "name:Pierre THIBAULT, message: RT @InseeOI: [#Parution] #Insee Flash #Mayotte n° 129\n",
      "📖 En octobre 2021, les prix à la consommation baissent de 0,2 %\n",
      "👉 https://t.co/0SNaAf…\n",
      "name:Insee océan Indien, message: [#Parution] #Insee Flash #LaRéunion n° 215\n",
      "📖 Les prix à la consommation augmentent de 0,4 % en octobre 2021\n",
      "👉… https://t.co/F2F2tiKEzS\n",
      "name:Insee océan Indien, message: [#Parution] #Insee Flash #Mayotte n° 129\n",
      "📖 En octobre 2021, les prix à la consommation baissent de 0,2 %\n",
      "👉… https://t.co/5a19A1nVaM\n",
      "name:Insee Hauts-de-France, message: #JyVaisAutrement Cérémonie des prix du challenge de la Mobilité 2021 🚲🏆: l'#Insee #HautsdeFrance y était aussi ! https://t.co/BswjimHF5e\n",
      "name:jfgino, message: RT @jfgino: France évolution du nombre de décès (2020/2021) et comparatif à 2019 (sans #Covid19) source #Insee https://t.co/tSmNPVKo2w\n",
      "name:Thirty Day Map Challenge Bot, message: RT @Menileda: Jour 20 du #30DayMapChallenge consacré au mouvement. Un classique : les flux domicile-travail selon l'#INSEE sur les villes d…\n",
      "name:Menileda, message: Jour 20 du #30DayMapChallenge consacré au mouvement. Un classique : les flux domicile-travail selon l'#INSEE sur le… https://t.co/h7HWB1wx8W\n",
      "name:val march, message: RT @InseeRegions: L'#Insee fête ses #75ans 🎂. En 1946, le prénom le plus attribué aux petites filles est Marie❗\n",
      "Retrouvez le classement des…\n",
      "name:Notté Gérard, message: #INSEE - Au 3e trimestre 2021, la hausse des prix des logements anciens se poursuit, de manière plus prononcée pour… https://t.co/7ciZ2irGcb\n",
      "name:CCI Nantes St-Nazaire, message: RT @InseePdL: Pour son édition 2021, l’#Insee participera au salon Go entrepreneurs de #Nantes.\n",
      "Notre équipe Sirene sera présente sur le st…\n",
      "name:ACTWEET VENDEE, message: RT @InseePdL: Pour son édition 2021, l’#Insee participera au salon Go entrepreneurs de #Nantes.\n",
      "Notre équipe Sirene sera présente sur le st…\n",
      "name:Insee en Régions, message: L'#Insee fête ses #75ans 🎂. En 1946, le prénom le plus attribué aux petites filles est Marie❗\n",
      "Retrouvez le classeme… https://t.co/2l8vN0KacB\n",
      "name:Richard Eudes, PhD, message: Au troisième trimestre 2021, la hausse des prix des logements anciens se poursuit, de manière plus prononcée pour l… https://t.co/jplGPNDGtQ\n",
      "name:Insee Pays de la Loire, message: Pour son édition 2021, l’#Insee participera au salon Go entrepreneurs de #Nantes.\n",
      "Notre équipe Sirene sera présente… https://t.co/0Am0GQgLQf\n",
      "name:Un Monde de Rêves ; POéSiE de l'ESCàLiER, message: @obraibant @SudRadio @AniceLajnef ou bien encore intégrer au sein d'un espace donné un indice d'#inflation considér… https://t.co/bqq4wqsi2u\n",
      "name:Richard Eudes, PhD, message: Différences de positions selon une hiérarchie : Contrefactuels fondés sur un modèle d’assignation : les Statistique… https://t.co/E9MlBIKDHN\n",
      "name:Diana Léo, message: RT @InseeOI: 📽️Mais au fait, l’#Insee, à quoi ça sert 🤔❓\n",
      "La réponse en courte vidéo :\n",
      "L'INSEE - à quoi ça sert ? https://t.co/CK7Z9SNPOs vi…\n",
      "name:Macquet Philippe, message: RT @InseeBretagne: Ne pas confondre l'Insee et Lindsay 😅. C'est bien l'#Insee qui a 75 ans ! @lindsaylohan est beaucoup plus jeune ...\n",
      "Pour…\n",
      "name:𝕵𝖔𝖍𝖓 𝕮𝖔𝖓𝖓𝖔𝖗 🔰Rᴇ́sɪsᴛᴀɴᴄᴇ 💥, message: Ce n'est pas impossible vu que L'#OCTROIDEMER, LES TAXES DE TRANSPORT, LA TVA &amp; LES IMPÔTS NE SONT PAS INCLUS DANS… https://t.co/fSXye7uLcK\n",
      "name:𝕵𝖔𝖍𝖓 𝕮𝖔𝖓𝖓𝖔𝖗 🔰Rᴇ́sɪsᴛᴀɴᴄᴇ 💥, message: Ce n'est pas impossible vu que L'#OCTROIDEMER, LES TAXES DE TRANSPORT, LA TVA &amp; LES IMPÔTS NE SONT PAS INCLUS DANS… https://t.co/RYh2xFhFwr\n",
      "name:𝕵𝖔𝖍𝖓 𝕮𝖔𝖓𝖓𝖔𝖗 🔰Rᴇ́sɪsᴛᴀɴᴄᴇ 💥, message: @Eclsherman @BFMTV Ce n'est pas impossible vu que L'#OCTROIDEMER, LES TAXES DE TRANSPORT, LA TVA &amp; LES IMPÔTS NE SO… https://t.co/MqjLwosbhU\n",
      "name:ZoéBulie, message: RT @InseeRegions: Comment vous situez-vous sur l'échelle des #salaires 💰 en #NouvelleAquitaine 📈❓ Retrouvez l'outil interactif de l'#Insee…\n",
      "name:Insee en Régions, message: [#75AnsInsee #GrandEst]\n",
      "L’#Insee s’expose jusqu’au 15 décembre dans 26 gares de France. Dans la région c’est à Nanc… https://t.co/5Xu7uTcBD5\n",
      "name:Florence Van Eenoo 🔭, message: RT @sophie19591: [France Info] Emploi : qui sont les travailleurs les plus autonomes ? https://t.co/cdepl5xvJE via @franceinfo #cadres #aut…\n",
      "name:Talondachille, message: Les statistiques au 8 nov de l’ #INSEE \n",
      "#MortaliteToutesCauses \n",
      "#2019 #2020 #2021\n",
      "#COVID19 \n",
      "#Hecatombe… https://t.co/xYT85AqOhm\n",
      "name:Pierre THIBAULT, message: RT @InseeOI: 📽️Mais au fait, l’#Insee, à quoi ça sert 🤔❓\n",
      "La réponse en courte vidéo :\n",
      "L'INSEE - à quoi ça sert ? https://t.co/CK7Z9SNPOs vi…\n",
      "name:Insee océan Indien, message: 📽️Mais au fait, l’#Insee, à quoi ça sert 🤔❓\n",
      "La réponse en courte vidéo :\n",
      "L'INSEE - à quoi ça sert ? https://t.co/CK7Z9SNPOs via @YouTube\n",
      "name:val march, message: RT @InseeRegions: Comment vous situez-vous sur l'échelle des #salaires 💰 en #NouvelleAquitaine 📈❓ Retrouvez l'outil interactif de l'#Insee…\n",
      "name:Sophie Alexandre, message: [France Info] Emploi : qui sont les travailleurs les plus autonomes ? https://t.co/cdepl5xvJE via @franceinfo… https://t.co/wXUHgEnJhF\n",
      "name:Insee en Régions, message: #Insee #Paca #Rencontres\n",
      "\n",
      "#AVosAgendas 🗓️ Mardi 7 décembre | 14h-16h30\n",
      "\n",
      "Les Sources de l'info seront à Gap… https://t.co/5oKHX1Uh8U\n",
      "name:Sébastien Seguin, message: RT @InseeOI: [#Agenda] Ne manquez pas la #publication de la semaine de l’@InseeOI à La Réunion\n",
      "🗓️ Le mercredi 24 novembre\n",
      "#Insee Flash #LaR…\n",
      "name:Pierre THIBAULT, message: RT @InseeOI: [#Agenda] Ne manquez pas la #publication de la semaine de l’@InseeOI à La Réunion\n",
      "🗓️ Le mercredi 24 novembre\n",
      "#Insee Flash #LaR…\n",
      "name:Pierre THIBAULT, message: RT @InseeOI: [#Agenda] Ne manquez pas la #publication de la semaine de l’@InseeOI à Mayotte\n",
      "🗓️ Le mercredi 24 novembre\n",
      "#Insee Flash #Mayott…\n",
      "name:Insee océan Indien, message: [#Agenda] Ne manquez pas la #publication de la semaine de l’@InseeOI à La Réunion\n",
      "🗓️ Le mercredi 24 novembre\n",
      "#Insee… https://t.co/MBFgPjodZU\n",
      "name:Insee océan Indien, message: [#Agenda] Ne manquez pas la #publication de la semaine de l’@InseeOI à Mayotte\n",
      "🗓️ Le mercredi 24 novembre\n",
      "#Insee Fl… https://t.co/7g8yLqYcKE\n",
      "name:Insee en Régions, message: Comment vous situez-vous sur l'échelle des #salaires 💰 en #NouvelleAquitaine 📈❓ Retrouvez l'outil interactif de l'… https://t.co/Jzqc5heA1x\n",
      "name:MarDe … #MajoritéSilencieuse #5ansdeplus 👌, message: @franceinfo vous pouvez toujours retweeter cette information si vos « valeurs » n’en sont pas affectées #macron …… https://t.co/s6h2Gp6ewn\n",
      "name:Julien H, message: RT @AniceLajnef: L'INSEE est prompt à diminuer les effets de l'inflation quand nous achetons à prix égal un ordinateur avec de meilleures s…\n",
      "name:jfgino, message: France évolution du nombre de décès (2020/2021) et comparatif à 2019 (sans #Covid19) source #Insee https://t.co/tSmNPVKo2w\n",
      "name:Santoro Manon, message: Contrairement à #GLEvent , l’#INSEE n'évalue QUE les #foires et #salons pour calculer le poids de l’#event… https://t.co/9aYEQoAuFk\n",
      "name:Bithou, message: Il y a certainement que l'#INSEE  qui peut potentiellement connaître le poids économique  des #salons et des… https://t.co/ecB27wou9R\n",
      "name:Insee Bretagne, message: [RDV #Insee] Merci aux nombreux participants qui ont suivi ce matin notre rdv sur l’#économie bretonne 🙏\n",
      "👏Bravo à S… https://t.co/eXlF3cRpVQ\n",
      "name:Notté Gérard, message: #INSEE - Un tiers des salariés ont peu d’autonomie dans leurs horaires et une vie privée exposée aux aléas professi… https://t.co/iNwFaXs5kX\n",
      "name:Richard Eudes, PhD, message: En octobre 2021, le prix du pétrole accélère : les Statistiques de l'@InseeFr https://t.co/XZcKJ8FQk9 #INSEE #statistics #opendata #stats\n",
      "name:petitprofencolere/Bruno LE COZ, message: Quand le \"Service public\" édulcore une situation très médiocre (ce qui ressort en fait de la publication de l'… https://t.co/7SS5QpHWp1\n",
      "name:Association Wagram, message: #JO #décret #repertoire #SIRENE #INSEE #ajout #renseignement #ProConnect Ce décret a pour objet d’ajouter au répert… https://t.co/cUeDyota3t\n",
      "name:Thibaud BRUNET, message: RT @mp_fleury: Le taux d’emploi en contrat à durée indéterminée (CDI) des 15-64 ans est stable à 50,2 % au troisième trimestre 2021 #INSEE…\n",
      "name:Notté Gérard, message: #INSEE - Au troisième trimestre 2021, le taux d’emploi est au plus haut (67,5 %) et le taux chômage est quasi stabl… https://t.co/NQToOyeEbe\n",
      "name:Mp_Fleury, message: Le taux d’emploi en contrat à durée indéterminée (CDI) des 15-64 ans est stable à 50,2 % au troisième trimestre 202… https://t.co/QmhTS6av8P\n",
      "name:Insee Bretagne, message: \"La #Bretagne parmi les régions européennes, entre dynamisme démographique et vieillissement\", #Insee Flash Bretagn… https://t.co/keAGwQYEiA\n",
      "name:ELECTION POLITIQUE CITOYEN, message: 🗞️🇫🇷🇪🇺 Chômage : les chiffres restent stables au troisième trimestre, selon l'Insee\n",
      "👇\n",
      "https://t.co/QkABKLIpO2… https://t.co/oIQxKQBG68\n",
      "name:Richard Eudes, PhD, message: Au troisième trimestre 2021, le taux d’emploi est au plus haut (67,5 %) et le taux chômage est quasi stable (8,1 %)… https://t.co/Zo91bocC6i\n",
      "name:Pierre THIBAULT, message: RT @InseeOI: 🌲Le #DeveloppementDurable  à #LaRéunion. L’#Insee vous propose plusieurs études dont six récentes sur le sujet ❗️\n",
      "Lien vers le…\n",
      "name:Stéphane Prévost - Boyard, message: RT @Xavier_Delpech: Publication au #JORF du 19 nov. du décret n° 2021-1500 du 17 novembre 2021 relatif à l'ajout de renseignements au réper…\n",
      "name:Insee océan Indien, message: 🌲Le #DeveloppementDurable  à #LaRéunion. L’#Insee vous propose plusieurs études dont six récentes sur le sujet ❗️\n",
      "L… https://t.co/suJrwJXT11\n",
      "name:Pнιlιppe De Goмѕтoѕĸy, message: RT @AniceLajnef: L'INSEE est prompt à diminuer les effets de l'inflation quand nous achetons à prix égal un ordinateur avec de meilleures s…\n",
      "name:Xavier Delpech, message: Publication au #JORF du 19 nov. du décret n° 2021-1500 du 17 novembre 2021 relatif à l'ajout de renseignements au r… https://t.co/CP2mSflMAX\n",
      "name:Camus Valérie, message: René Carmille, un hacker sous l'Occupation -  Un film pour réfléchi🧐 sur l’utilisation/détournement des DATA #insee… https://t.co/9jxvR4UOCW\n",
      "name:Marie Tititte, message: RT @InseeRegions: [#ÎleDeFrance] \n",
      "Pour observer les impacts sociaux de la #CriseSanitaire, l’#Insee, en partenariat avec la #Drees, mène un…\n",
      "name:Insee en Régions, message: [#ÎleDeFrance] \n",
      "Pour observer les impacts sociaux de la #CriseSanitaire, l’#Insee, en partenariat avec la #Drees, m… https://t.co/Xw1cNU6jRA\n",
      "name:Richard Eudes, PhD, message: Un tiers des salariés ont peu d’autonomie dans leurs horaires et une vie privée exposée aux aléas professionnels :… https://t.co/8h9JvUvhzP\n",
      "name:Insee Pays de la Loire, message: ℹ️ #Insee La Lettre d'information des #PaysdelaLoire vient de paraître. \n",
      "Vous y retrouvez nos dernières #Actualités… https://t.co/7RlydXWcg9\n",
      "name:CGT OBS, message: @franceinter Une personne sur cinq est en situation de pauvreté monétaire ou de privation matérielle et sociale\n",
      "\n",
      "21… https://t.co/GamMWSGhTm\n",
      "name:Bruno, message: L'#Insee disait aussi qu' avec l'euro il n'y avait pas eu d'inflation et pendant ce temps les prix de l'immobilier,… https://t.co/9TVapGqNNU\n",
      "name:Jost Mélanie, message: RT @chapelierannie: ✅Art. 4 : les amendements adoptés permettent de modifier les #nomenclatures NAF et PCS de l’#INSEE pour que les sages-f…\n",
      "name:Insee en Régions, message: [#EnquêteInsee TIC]\n",
      "En #ÎleDeFrance, plus de 500 ménages franciliens sont interrogés par l’#Insee pour collecter de… https://t.co/ZD5Ryu7LbQ\n",
      "name:sofilele, message: RT @chapelierannie: ✅Art. 4 : les amendements adoptés permettent de modifier les #nomenclatures NAF et PCS de l’#INSEE pour que les sages-f…\n",
      "name:Valérie George, message: RT @chapelierannie: ✅Art. 4 : les amendements adoptés permettent de modifier les #nomenclatures NAF et PCS de l’#INSEE pour que les sages-f…\n",
      "name:Notté Gérard, message: #INSEE - Index bâtiment, travaux publics et divers de la construction - août 2021 (BT01 Tous corps d’état : 118,5)\n",
      "https://t.co/pSJtFGkNnW\n",
      "name:Notté Gérard, message: #INSEE - Oct. 2021, nombre total de créations d’entreprises tous types d’entreprises confondus : 6,7 % après baisse… https://t.co/avg93VLk23\n",
      "name:Thomas 💉💉, message: RT @chapelierannie: ✅Art. 4 : les amendements adoptés permettent de modifier les #nomenclatures NAF et PCS de l’#INSEE pour que les sages-f…\n",
      "name:Richard Eudes, PhD, message: Les index Bâtiment, Travaux publics et divers de la construction en août 2021 : les Statistiques de l'@InseeFr… https://t.co/uvyfCijGWS\n",
      "name:IDerrendinger #jemesuisfaitvacciner, message: RT @chapelierannie: ✅Art. 4 : les amendements adoptés permettent de modifier les #nomenclatures NAF et PCS de l’#INSEE pour que les sages-f…\n",
      "name:raphaelle matusz, message: RT @chapelierannie: ✅Art. 4 : les amendements adoptés permettent de modifier les #nomenclatures NAF et PCS de l’#INSEE pour que les sages-f…\n",
      "name:Karen Matsumoto, message: RT @chapelierannie: ✅Art. 4 : les amendements adoptés permettent de modifier les #nomenclatures NAF et PCS de l’#INSEE pour que les sages-f…\n",
      "name:Organisation Nationale Syndicale des Sages-Femmes, message: RT @chapelierannie: ✅Art. 4 : les amendements adoptés permettent de modifier les #nomenclatures NAF et PCS de l’#INSEE pour que les sages-f…\n",
      "name:Annie Chapelier, message: ✅Art. 4 : les amendements adoptés permettent de modifier les #nomenclatures NAF et PCS de l’#INSEE pour que les sag… https://t.co/RYcm7jXuW6\n",
      "name:Richard Eudes, PhD, message: Absence de contact par l'internet avec une administration ou un service public selon l’âge : les Statistiques de l'… https://t.co/nY8lB3nCO9\n",
      "name:Richard Eudes, PhD, message: Personnes mises en cause pour des crimes ou délits non routiers : les Statistiques de l'@InseeFr… https://t.co/GJtuNQgQZy\n",
      "name:CCI Hauts-de-France, message: RT @InseeHdF: Qu'est-ce qui favorise la pérennité des nouvelles #entreprises dans les #HautsdeFrance❓\n",
      "Réponse en vidéo, avec l'interview de…\n",
      "name:Benoît Rostand, message: RT @adb_locations: #Immobilier : le point sur les #logements vacants en #France \n",
      "\n",
      "Selon l'#Insee, 3 millions de logements sont vacants en F…\n",
      "name:Richard Eudes, PhD, message: Nette hausse des créations d’entreprises en octobre 2021 et sur les 12 derniers mois : les Statistiques de l'… https://t.co/NzZgPrvK6j\n",
      "name:ADB, message: #Immobilier : le point sur les #logements vacants en #France \n",
      "\n",
      "Selon l'#Insee, 3 millions de logements sont vacants… https://t.co/EEXjO3Do5Q\n",
      "name:PLG, message: RT @ConflitsFrance: 🇨🇵📈 ECONOMIE | Selon l'#INSEE, en octobre, l'#inflation en France a accéléré a +2,6% en une année. \n",
      "Cette hausse est en…\n",
      "name:Notté Gérard, message: #INSEE - En octobre 2021, les prix à la consommation augmentent de 0,4 % sur un mois et de 2,6 % sur un an (résulta… https://t.co/sdi14zpt9c\n",
      "name:Pierre THIBAULT, message: RT @InseeOI: @InseeFr Les enquêtes de l’#Insee oublient-elles les personnes pauvres en France ? Retrouvez l’étude de @InseeFR sur la pauvre…\n"
     ]
    }
   ],
   "source": [
    "tweets = api.search_tweets(q=search_words,lang=\"fr\",result_type=\"mixed\", count=1000)\n",
    "# print(tweets[0]._json)\n",
    "for tweet in tweets:\n",
    "    tweet_dict=tweet._json\n",
    "    text=tweet_dict.get(\"text\")\n",
    "    user_name=tweet_dict.get(\"user\").get(\"name\")\n",
    "    date=tweet_dict.get(\"created_at\")\n",
    "    print(f\"name:{user_name}, message: {text}\")"
   ]
  },
  {
   "cell_type": "code",
   "execution_count": null,
   "metadata": {},
   "outputs": [],
   "source": []
  }
 ],
 "metadata": {
  "kernelspec": {
   "display_name": "Python 3 (ipykernel)",
   "language": "python",
   "name": "python3"
  },
  "language_info": {
   "codemirror_mode": {
    "name": "ipython",
    "version": 3
   },
   "file_extension": ".py",
   "mimetype": "text/x-python",
   "name": "python",
   "nbconvert_exporter": "python",
   "pygments_lexer": "ipython3",
   "version": "3.9.7"
  }
 },
 "nbformat": 4,
 "nbformat_minor": 4
}
