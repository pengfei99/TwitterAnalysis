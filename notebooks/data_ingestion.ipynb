{
 "cells": [
  {
   "cell_type": "markdown",
   "metadata": {
    "jupyter": {
     "outputs_hidden": true
    },
    "pycharm": {
     "name": "#%%\n"
    }
   },
   "source": [
    "# In this notebook, we will search some twitte message"
   ]
  },
  {
   "cell_type": "markdown",
   "metadata": {},
   "source": [
    "# Pre-requise: Create twitter developer account and generate api credentials\n",
    "Step 1: Apply for a Twitter Developer Account\n",
    "\n",
    "Go to the Twitter developer site to apply for a developer account. Here, you have to select the Twitter user responsible for this account. It should probably be you or your organization. Here’s what this page looks like:\n",
    "\n"
   ]
  },
  {
   "cell_type": "code",
   "execution_count": 2,
   "metadata": {},
   "outputs": [],
   "source": [
    "import tweepy as tw\n",
    "import json\n",
    "import pandas as pd\n",
    "import pyarrow.parquet as pq\n",
    "import s3fs\n",
    "from pyarrow import fs\n",
    "import pyarrow as pa\n",
    "import os\n",
    "from datetime import date"
   ]
  },
  {
   "cell_type": "markdown",
   "metadata": {},
   "source": [
    "# Download tweets\n",
    "## Step1. Setup the twitter api credential\n"
   ]
  },
  {
   "cell_type": "code",
   "execution_count": 3,
   "metadata": {},
   "outputs": [],
   "source": [
    "consumer_key = \"9F2cDP6mBO001MJtFyLybWGqT\"\n",
    "consumer_secret = \"czoiPDtFaNrUboAQEPPXpb9EMwbTgW7WB6bZYxpBljy2Ozqrqc\"\n",
    "access_token = \"207529473-0NYW8AbMELgWLUOtB8zCLYKSH2T3BPzb4iqr15Df\"\n",
    "access_token_secret = \"TsIFoTd0yILe2pIjDczFf56ocDzxoQfaGxnDS10asw8qz\""
   ]
  },
  {
   "cell_type": "markdown",
   "metadata": {},
   "source": [
    "## Step2. Create an instance of the twitter client"
   ]
  },
  {
   "cell_type": "code",
   "execution_count": 4,
   "metadata": {},
   "outputs": [],
   "source": [
    "client_auth = tw.OAuthHandler(consumer_key, consumer_secret)\n",
    "client_auth.set_access_token(access_token, access_token_secret)\n",
    "api = tw.API(client_auth, wait_on_rate_limit=True, retry_count=5, retry_delay=1)"
   ]
  },
  {
   "cell_type": "code",
   "execution_count": 5,
   "metadata": {},
   "outputs": [
    {
     "name": "stdout",
     "output_type": "stream",
     "text": [
      "Authentication OK\n"
     ]
    }
   ],
   "source": [
    "try:\n",
    "    api.verify_credentials()\n",
    "    print(\"Authentication OK\")\n",
    "except Exception as e:\n",
    "    print(\"Error during authentication\")"
   ]
  },
  {
   "cell_type": "markdown",
   "metadata": {},
   "source": [
    "## Step3. Get tweets that you are intrested in \n",
    "\n",
    "We have created the twitter client, now we are ready to search the tweets messages. Here we use the search_tweets to find all the tweets that contains certain key words of certain language. We don't use date to filter tweets because the search index has a 7-day limit. In other words, no tweets will be found for a date older than one week.\n",
    "For more details about the search_tweets\n",
    "https://docs.tweepy.org/en/stable/api.html?highlight=search%20tweet#tweepy.API.search_tweets\n",
    "\n",
    "If you want to search older tweets, you can use the search_full_archive method.\n",
    "https://docs.tweepy.org/en/stable/api.html?highlight=search%20tweet#tweepy.API.search_full_archive\n",
    "\n"
   ]
  },
  {
   "cell_type": "markdown",
   "metadata": {},
   "source": [
    "### Configure the search filter"
   ]
  },
  {
   "cell_type": "code",
   "execution_count": 9,
   "metadata": {},
   "outputs": [],
   "source": [
    "# filter the search result by using below key words \n",
    "search_words = \"#insee\"\n",
    "# We can get tweet before certain date\n",
    "# until_date = \"2021-11-24\n",
    "# specify the \n",
    "language=\"fr\"\n",
    "# the max tweet number will be retained in the result\n",
    "max_tweet_count=1000000"
   ]
  },
  {
   "cell_type": "code",
   "execution_count": 10,
   "metadata": {},
   "outputs": [
    {
     "name": "stdout",
     "output_type": "stream",
     "text": [
      "{'created_at': 'Tue Nov 30 12:55:51 +0000 2021', 'id': 1465665879191048193, 'id_str': '1465665879191048193', 'text': \"L'#INSEE affirme que le #PouvoirDAchat des Français augmente en 2021😳\\nhttps://t.co/pFDxmQZSds\\nÉvidemment, avec une… https://t.co/eQqv0L7VED\", 'truncated': True, 'entities': {'hashtags': [{'text': 'INSEE', 'indices': [2, 8]}, {'text': 'PouvoirDAchat', 'indices': [24, 38]}], 'symbols': [], 'user_mentions': [], 'urls': [{'url': 'https://t.co/pFDxmQZSds', 'expanded_url': 'https://www.insee.fr/fr/statistiques/5897131', 'display_url': 'insee.fr/fr/statistique…', 'indices': [70, 93]}, {'url': 'https://t.co/eQqv0L7VED', 'expanded_url': 'https://twitter.com/i/web/status/1465665879191048193', 'display_url': 'twitter.com/i/web/status/1…', 'indices': [116, 139]}]}, 'metadata': {'result_type': 'popular', 'iso_language_code': 'fr'}, 'source': '<a href=\"https://mobile.twitter.com\" rel=\"nofollow\">Twitter Web App</a>', 'in_reply_to_status_id': None, 'in_reply_to_status_id_str': None, 'in_reply_to_user_id': None, 'in_reply_to_user_id_str': None, 'in_reply_to_screen_name': None, 'user': {'id': 59063574, 'id_str': '59063574', 'name': 'Philippe Herlin', 'screen_name': 'philippeherlin', 'location': 'Paris', 'description': 'Économiste & essayiste, Docteur en économie du CNAM / ➡️Livre #Bitcoin: https://t.co/yQ1iCyWmpM / ➡️Note #TransitionÉnergétique: https://t.co/6qTmKcxv2E', 'url': 'https://t.co/nzPkaKYImQ', 'entities': {'url': {'urls': [{'url': 'https://t.co/nzPkaKYImQ', 'expanded_url': 'http://www.philippeherlin.com/', 'display_url': 'philippeherlin.com', 'indices': [0, 23]}]}, 'description': {'urls': [{'url': 'https://t.co/yQ1iCyWmpM', 'expanded_url': 'http://philippeherlin.com/bitcoin.htm', 'display_url': 'philippeherlin.com/bitcoin.htm', 'indices': [72, 95]}, {'url': 'https://t.co/6qTmKcxv2E', 'expanded_url': 'https://vu.fr/Nb33', 'display_url': 'vu.fr/Nb33', 'indices': [129, 152]}]}}, 'protected': False, 'followers_count': 28595, 'friends_count': 53, 'listed_count': 225, 'created_at': 'Wed Jul 22 07:12:58 +0000 2009', 'favourites_count': 3471, 'utc_offset': None, 'time_zone': None, 'geo_enabled': True, 'verified': True, 'statuses_count': 19915, 'lang': None, 'contributors_enabled': False, 'is_translator': False, 'is_translation_enabled': False, 'profile_background_color': 'C0DEED', 'profile_background_image_url': 'http://abs.twimg.com/images/themes/theme1/bg.png', 'profile_background_image_url_https': 'https://abs.twimg.com/images/themes/theme1/bg.png', 'profile_background_tile': False, 'profile_image_url': 'http://pbs.twimg.com/profile_images/1050642567124025349/ZV1oKu_l_normal.jpg', 'profile_image_url_https': 'https://pbs.twimg.com/profile_images/1050642567124025349/ZV1oKu_l_normal.jpg', 'profile_banner_url': 'https://pbs.twimg.com/profile_banners/59063574/1635094031', 'profile_link_color': '3B94D9', 'profile_sidebar_border_color': 'C0DEED', 'profile_sidebar_fill_color': 'DDEEF6', 'profile_text_color': '333333', 'profile_use_background_image': True, 'has_extended_profile': False, 'default_profile': False, 'default_profile_image': False, 'following': False, 'follow_request_sent': False, 'notifications': False, 'translator_type': 'none', 'withheld_in_countries': []}, 'geo': None, 'coordinates': None, 'place': None, 'contributors': None, 'is_quote_status': False, 'retweet_count': 27, 'favorite_count': 46, 'favorited': False, 'retweeted': False, 'possibly_sensitive': False, 'lang': 'fr'}\n"
     ]
    }
   ],
   "source": [
    "# Get the tweets\n",
    "tweets = api.search_tweets(q=search_words,lang=\"fr\",result_type=\"mixed\", count=max_tweet_count)\n",
    "\n",
    "# tweets is a list of object status, which has an attribute _json which is the actual tweet in json string.\n",
    "print(tweets[0]._json)\n"
   ]
  },
  {
   "cell_type": "code",
   "execution_count": 11,
   "metadata": {},
   "outputs": [
    {
     "name": "stdout",
     "output_type": "stream",
     "text": [
      "name:Philippe Herlin | message: L'#INSEE affirme que le #PouvoirDAchat des Français augmente en 2021😳\n",
      "https://t.co/pFDxmQZSds\n",
      "Évidemment, avec une… https://t.co/eQqv0L7VED | date:Tue Nov 30 12:55:51 +0000 2021\n"
     ]
    }
   ],
   "source": [
    "# For example, if we want to get the name of the sender, date and text of a tweet\n",
    "\n",
    "tweet_dict=tweets[0]._json\n",
    "text=tweet_dict.get(\"text\")\n",
    "user_name=tweet_dict.get(\"user\").get(\"name\")\n",
    "date=tweet_dict.get(\"created_at\")\n",
    "print(f\"name:{user_name} | message: {text} | date:{date}\")"
   ]
  },
  {
   "cell_type": "markdown",
   "metadata": {},
   "source": [
    "## Step4. Generate a data frame \n",
    "\n",
    "Now we have the tweet, we want to generate a dataframe based on the tweet "
   ]
  },
  {
   "cell_type": "code",
   "execution_count": 12,
   "metadata": {},
   "outputs": [],
   "source": [
    "\n",
    "def generate_tweet_df(tweets):\n",
    "     # init dataframe\n",
    "    df = pd.DataFrame(columns=['name','date','text'])\n",
    "    index=0\n",
    "    for tweet in tweets:\n",
    "        # get column value for each tweet\n",
    "        tweet_dict=tweet._json\n",
    "        text=tweet_dict.get(\"text\")\n",
    "        user_name=tweet_dict.get(\"user\").get(\"name\")\n",
    "        date=tweet_dict.get(\"created_at\")\n",
    "        # add new row to the dataframe\n",
    "        df.loc[index] = pd.Series({'name':user_name, 'date':date, 'text':text})\n",
    "        index=index+1\n",
    "    return df\n",
    "       \n",
    "        "
   ]
  },
  {
   "cell_type": "code",
   "execution_count": 13,
   "metadata": {},
   "outputs": [],
   "source": [
    "df=generate_tweet_df(tweets)"
   ]
  },
  {
   "cell_type": "code",
   "execution_count": 14,
   "metadata": {},
   "outputs": [
    {
     "data": {
      "text/html": [
       "<div>\n",
       "<style scoped>\n",
       "    .dataframe tbody tr th:only-of-type {\n",
       "        vertical-align: middle;\n",
       "    }\n",
       "\n",
       "    .dataframe tbody tr th {\n",
       "        vertical-align: top;\n",
       "    }\n",
       "\n",
       "    .dataframe thead th {\n",
       "        text-align: right;\n",
       "    }\n",
       "</style>\n",
       "<table border=\"1\" class=\"dataframe\">\n",
       "  <thead>\n",
       "    <tr style=\"text-align: right;\">\n",
       "      <th></th>\n",
       "      <th>name</th>\n",
       "      <th>date</th>\n",
       "      <th>text</th>\n",
       "    </tr>\n",
       "  </thead>\n",
       "  <tbody>\n",
       "    <tr>\n",
       "      <th>0</th>\n",
       "      <td>Philippe Herlin</td>\n",
       "      <td>Tue Nov 30 12:55:51 +0000 2021</td>\n",
       "      <td>L'#INSEE affirme que le #PouvoirDAchat des Fra...</td>\n",
       "    </tr>\n",
       "    <tr>\n",
       "      <th>1</th>\n",
       "      <td>Richard Eudes, PhD</td>\n",
       "      <td>Wed Dec 01 14:02:30 +0000 2021</td>\n",
       "      <td>Causes de décès selon le sexe : les Statistiqu...</td>\n",
       "    </tr>\n",
       "    <tr>\n",
       "      <th>2</th>\n",
       "      <td>Richard Eudes, PhD</td>\n",
       "      <td>Wed Dec 01 14:02:28 +0000 2021</td>\n",
       "      <td>Causes de décès des jeunes et des enfants : le...</td>\n",
       "    </tr>\n",
       "    <tr>\n",
       "      <th>3</th>\n",
       "      <td>Richard Eudes, PhD</td>\n",
       "      <td>Wed Dec 01 14:02:28 +0000 2021</td>\n",
       "      <td>Causes de décès des personnes âgées : les Stat...</td>\n",
       "    </tr>\n",
       "    <tr>\n",
       "      <th>4</th>\n",
       "      <td>Floriane Very</td>\n",
       "      <td>Wed Dec 01 13:00:52 +0000 2021</td>\n",
       "      <td>RT @Maireinfo2: La #population française pourr...</td>\n",
       "    </tr>\n",
       "    <tr>\n",
       "      <th>5</th>\n",
       "      <td>Maire info</td>\n",
       "      <td>Wed Dec 01 11:11:58 +0000 2021</td>\n",
       "      <td>La #population française pourrait baisser à pa...</td>\n",
       "    </tr>\n",
       "    <tr>\n",
       "      <th>6</th>\n",
       "      <td>SPI Toulouse Les Minimes</td>\n",
       "      <td>Wed Dec 01 10:00:20 +0000 2021</td>\n",
       "      <td>Retrouvez les chiffres clés de la dernière enq...</td>\n",
       "    </tr>\n",
       "    <tr>\n",
       "      <th>7</th>\n",
       "      <td>Richard Eudes, PhD</td>\n",
       "      <td>Wed Dec 01 09:07:30 +0000 2021</td>\n",
       "      <td>Capacité d'accueil des personnes âgées selon l...</td>\n",
       "    </tr>\n",
       "    <tr>\n",
       "      <th>8</th>\n",
       "      <td>Mamatt</td>\n",
       "      <td>Wed Dec 01 08:03:53 +0000 2021</td>\n",
       "      <td>RT @philippeherlin: L'#INSEE affirme que le #P...</td>\n",
       "    </tr>\n",
       "    <tr>\n",
       "      <th>9</th>\n",
       "      <td>cWilly</td>\n",
       "      <td>Wed Dec 01 07:49:18 +0000 2021</td>\n",
       "      <td>#Insee confirme la baisse démographique en Fra...</td>\n",
       "    </tr>\n",
       "  </tbody>\n",
       "</table>\n",
       "</div>"
      ],
      "text/plain": [
       "                       name                            date  \\\n",
       "0           Philippe Herlin  Tue Nov 30 12:55:51 +0000 2021   \n",
       "1        Richard Eudes, PhD  Wed Dec 01 14:02:30 +0000 2021   \n",
       "2        Richard Eudes, PhD  Wed Dec 01 14:02:28 +0000 2021   \n",
       "3        Richard Eudes, PhD  Wed Dec 01 14:02:28 +0000 2021   \n",
       "4             Floriane Very  Wed Dec 01 13:00:52 +0000 2021   \n",
       "5                Maire info  Wed Dec 01 11:11:58 +0000 2021   \n",
       "6  SPI Toulouse Les Minimes  Wed Dec 01 10:00:20 +0000 2021   \n",
       "7        Richard Eudes, PhD  Wed Dec 01 09:07:30 +0000 2021   \n",
       "8                    Mamatt  Wed Dec 01 08:03:53 +0000 2021   \n",
       "9                    cWilly  Wed Dec 01 07:49:18 +0000 2021   \n",
       "\n",
       "                                                text  \n",
       "0  L'#INSEE affirme que le #PouvoirDAchat des Fra...  \n",
       "1  Causes de décès selon le sexe : les Statistiqu...  \n",
       "2  Causes de décès des jeunes et des enfants : le...  \n",
       "3  Causes de décès des personnes âgées : les Stat...  \n",
       "4  RT @Maireinfo2: La #population française pourr...  \n",
       "5  La #population française pourrait baisser à pa...  \n",
       "6  Retrouvez les chiffres clés de la dernière enq...  \n",
       "7  Capacité d'accueil des personnes âgées selon l...  \n",
       "8  RT @philippeherlin: L'#INSEE affirme que le #P...  \n",
       "9  #Insee confirme la baisse démographique en Fra...  "
      ]
     },
     "execution_count": 14,
     "metadata": {},
     "output_type": "execute_result"
    }
   ],
   "source": [
    "df.head(10)"
   ]
  },
  {
   "cell_type": "code",
   "execution_count": 16,
   "metadata": {},
   "outputs": [
    {
     "data": {
      "text/html": [
       "<div>\n",
       "<style scoped>\n",
       "    .dataframe tbody tr th:only-of-type {\n",
       "        vertical-align: middle;\n",
       "    }\n",
       "\n",
       "    .dataframe tbody tr th {\n",
       "        vertical-align: top;\n",
       "    }\n",
       "\n",
       "    .dataframe thead th {\n",
       "        text-align: right;\n",
       "    }\n",
       "</style>\n",
       "<table border=\"1\" class=\"dataframe\">\n",
       "  <thead>\n",
       "    <tr style=\"text-align: right;\">\n",
       "      <th></th>\n",
       "      <th>created_at</th>\n",
       "      <th>id</th>\n",
       "      <th>id_str</th>\n",
       "      <th>text</th>\n",
       "      <th>truncated</th>\n",
       "      <th>source</th>\n",
       "      <th>in_reply_to_status_id</th>\n",
       "      <th>in_reply_to_status_id_str</th>\n",
       "      <th>in_reply_to_user_id</th>\n",
       "      <th>in_reply_to_user_id_str</th>\n",
       "      <th>...</th>\n",
       "      <th>quoted_status.contributors</th>\n",
       "      <th>quoted_status.is_quote_status</th>\n",
       "      <th>quoted_status.retweet_count</th>\n",
       "      <th>quoted_status.favorite_count</th>\n",
       "      <th>quoted_status.favorited</th>\n",
       "      <th>quoted_status.retweeted</th>\n",
       "      <th>quoted_status.possibly_sensitive</th>\n",
       "      <th>quoted_status.lang</th>\n",
       "      <th>retweeted_status.entities.media</th>\n",
       "      <th>retweeted_status.extended_entities.media</th>\n",
       "    </tr>\n",
       "  </thead>\n",
       "  <tbody>\n",
       "    <tr>\n",
       "      <th>0</th>\n",
       "      <td>Tue Nov 30 12:55:51 +0000 2021</td>\n",
       "      <td>1465665879191048193</td>\n",
       "      <td>1465665879191048193</td>\n",
       "      <td>L'#INSEE affirme que le #PouvoirDAchat des Fra...</td>\n",
       "      <td>True</td>\n",
       "      <td>&lt;a href=\"https://mobile.twitter.com\" rel=\"nofo...</td>\n",
       "      <td>NaN</td>\n",
       "      <td>None</td>\n",
       "      <td>NaN</td>\n",
       "      <td>None</td>\n",
       "      <td>...</td>\n",
       "      <td>NaN</td>\n",
       "      <td>NaN</td>\n",
       "      <td>NaN</td>\n",
       "      <td>NaN</td>\n",
       "      <td>NaN</td>\n",
       "      <td>NaN</td>\n",
       "      <td>NaN</td>\n",
       "      <td>NaN</td>\n",
       "      <td>NaN</td>\n",
       "      <td>NaN</td>\n",
       "    </tr>\n",
       "    <tr>\n",
       "      <th>1</th>\n",
       "      <td>Wed Dec 01 14:02:30 +0000 2021</td>\n",
       "      <td>1466045040912908295</td>\n",
       "      <td>1466045040912908295</td>\n",
       "      <td>Causes de décès selon le sexe : les Statistiqu...</td>\n",
       "      <td>False</td>\n",
       "      <td>&lt;a href=\"https://ifttt.com\" rel=\"nofollow\"&gt;IFT...</td>\n",
       "      <td>NaN</td>\n",
       "      <td>None</td>\n",
       "      <td>NaN</td>\n",
       "      <td>None</td>\n",
       "      <td>...</td>\n",
       "      <td>NaN</td>\n",
       "      <td>NaN</td>\n",
       "      <td>NaN</td>\n",
       "      <td>NaN</td>\n",
       "      <td>NaN</td>\n",
       "      <td>NaN</td>\n",
       "      <td>NaN</td>\n",
       "      <td>NaN</td>\n",
       "      <td>NaN</td>\n",
       "      <td>NaN</td>\n",
       "    </tr>\n",
       "    <tr>\n",
       "      <th>2</th>\n",
       "      <td>Wed Dec 01 14:02:28 +0000 2021</td>\n",
       "      <td>1466045035754016779</td>\n",
       "      <td>1466045035754016779</td>\n",
       "      <td>Causes de décès des jeunes et des enfants : le...</td>\n",
       "      <td>False</td>\n",
       "      <td>&lt;a href=\"https://ifttt.com\" rel=\"nofollow\"&gt;IFT...</td>\n",
       "      <td>NaN</td>\n",
       "      <td>None</td>\n",
       "      <td>NaN</td>\n",
       "      <td>None</td>\n",
       "      <td>...</td>\n",
       "      <td>NaN</td>\n",
       "      <td>NaN</td>\n",
       "      <td>NaN</td>\n",
       "      <td>NaN</td>\n",
       "      <td>NaN</td>\n",
       "      <td>NaN</td>\n",
       "      <td>NaN</td>\n",
       "      <td>NaN</td>\n",
       "      <td>NaN</td>\n",
       "      <td>NaN</td>\n",
       "    </tr>\n",
       "    <tr>\n",
       "      <th>3</th>\n",
       "      <td>Wed Dec 01 14:02:28 +0000 2021</td>\n",
       "      <td>1466045031794585605</td>\n",
       "      <td>1466045031794585605</td>\n",
       "      <td>Causes de décès des personnes âgées : les Stat...</td>\n",
       "      <td>False</td>\n",
       "      <td>&lt;a href=\"https://ifttt.com\" rel=\"nofollow\"&gt;IFT...</td>\n",
       "      <td>NaN</td>\n",
       "      <td>None</td>\n",
       "      <td>NaN</td>\n",
       "      <td>None</td>\n",
       "      <td>...</td>\n",
       "      <td>NaN</td>\n",
       "      <td>NaN</td>\n",
       "      <td>NaN</td>\n",
       "      <td>NaN</td>\n",
       "      <td>NaN</td>\n",
       "      <td>NaN</td>\n",
       "      <td>NaN</td>\n",
       "      <td>NaN</td>\n",
       "      <td>NaN</td>\n",
       "      <td>NaN</td>\n",
       "    </tr>\n",
       "    <tr>\n",
       "      <th>4</th>\n",
       "      <td>Wed Dec 01 13:00:52 +0000 2021</td>\n",
       "      <td>1466029530381000708</td>\n",
       "      <td>1466029530381000708</td>\n",
       "      <td>RT @Maireinfo2: La #population française pourr...</td>\n",
       "      <td>False</td>\n",
       "      <td>&lt;a href=\"https://mobile.twitter.com\" rel=\"nofo...</td>\n",
       "      <td>NaN</td>\n",
       "      <td>None</td>\n",
       "      <td>NaN</td>\n",
       "      <td>None</td>\n",
       "      <td>...</td>\n",
       "      <td>NaN</td>\n",
       "      <td>NaN</td>\n",
       "      <td>NaN</td>\n",
       "      <td>NaN</td>\n",
       "      <td>NaN</td>\n",
       "      <td>NaN</td>\n",
       "      <td>NaN</td>\n",
       "      <td>NaN</td>\n",
       "      <td>NaN</td>\n",
       "      <td>NaN</td>\n",
       "    </tr>\n",
       "  </tbody>\n",
       "</table>\n",
       "<p>5 rows × 296 columns</p>\n",
       "</div>"
      ],
      "text/plain": [
       "                       created_at                   id               id_str  \\\n",
       "0  Tue Nov 30 12:55:51 +0000 2021  1465665879191048193  1465665879191048193   \n",
       "1  Wed Dec 01 14:02:30 +0000 2021  1466045040912908295  1466045040912908295   \n",
       "2  Wed Dec 01 14:02:28 +0000 2021  1466045035754016779  1466045035754016779   \n",
       "3  Wed Dec 01 14:02:28 +0000 2021  1466045031794585605  1466045031794585605   \n",
       "4  Wed Dec 01 13:00:52 +0000 2021  1466029530381000708  1466029530381000708   \n",
       "\n",
       "                                                text  truncated  \\\n",
       "0  L'#INSEE affirme que le #PouvoirDAchat des Fra...       True   \n",
       "1  Causes de décès selon le sexe : les Statistiqu...      False   \n",
       "2  Causes de décès des jeunes et des enfants : le...      False   \n",
       "3  Causes de décès des personnes âgées : les Stat...      False   \n",
       "4  RT @Maireinfo2: La #population française pourr...      False   \n",
       "\n",
       "                                              source  in_reply_to_status_id  \\\n",
       "0  <a href=\"https://mobile.twitter.com\" rel=\"nofo...                    NaN   \n",
       "1  <a href=\"https://ifttt.com\" rel=\"nofollow\">IFT...                    NaN   \n",
       "2  <a href=\"https://ifttt.com\" rel=\"nofollow\">IFT...                    NaN   \n",
       "3  <a href=\"https://ifttt.com\" rel=\"nofollow\">IFT...                    NaN   \n",
       "4  <a href=\"https://mobile.twitter.com\" rel=\"nofo...                    NaN   \n",
       "\n",
       "  in_reply_to_status_id_str  in_reply_to_user_id in_reply_to_user_id_str  ...  \\\n",
       "0                      None                  NaN                    None  ...   \n",
       "1                      None                  NaN                    None  ...   \n",
       "2                      None                  NaN                    None  ...   \n",
       "3                      None                  NaN                    None  ...   \n",
       "4                      None                  NaN                    None  ...   \n",
       "\n",
       "  quoted_status.contributors quoted_status.is_quote_status  \\\n",
       "0                        NaN                           NaN   \n",
       "1                        NaN                           NaN   \n",
       "2                        NaN                           NaN   \n",
       "3                        NaN                           NaN   \n",
       "4                        NaN                           NaN   \n",
       "\n",
       "  quoted_status.retweet_count quoted_status.favorite_count  \\\n",
       "0                         NaN                          NaN   \n",
       "1                         NaN                          NaN   \n",
       "2                         NaN                          NaN   \n",
       "3                         NaN                          NaN   \n",
       "4                         NaN                          NaN   \n",
       "\n",
       "  quoted_status.favorited  quoted_status.retweeted  \\\n",
       "0                     NaN                      NaN   \n",
       "1                     NaN                      NaN   \n",
       "2                     NaN                      NaN   \n",
       "3                     NaN                      NaN   \n",
       "4                     NaN                      NaN   \n",
       "\n",
       "   quoted_status.possibly_sensitive  quoted_status.lang  \\\n",
       "0                               NaN                 NaN   \n",
       "1                               NaN                 NaN   \n",
       "2                               NaN                 NaN   \n",
       "3                               NaN                 NaN   \n",
       "4                               NaN                 NaN   \n",
       "\n",
       "   retweeted_status.entities.media  retweeted_status.extended_entities.media  \n",
       "0                              NaN                                       NaN  \n",
       "1                              NaN                                       NaN  \n",
       "2                              NaN                                       NaN  \n",
       "3                              NaN                                       NaN  \n",
       "4                              NaN                                       NaN  \n",
       "\n",
       "[5 rows x 296 columns]"
      ]
     },
     "execution_count": 16,
     "metadata": {},
     "output_type": "execute_result"
    }
   ],
   "source": [
    "# we can also get all the fields of a tweet\n",
    "def tweets_json(tweets):\n",
    "    tweet_json=[]\n",
    "    for tweet in tweets:\n",
    "        tweet_json.append(tweet._json)\n",
    "    return tweet_json\n",
    "    \n",
    "\n",
    "# Here we use json normalize to convert json file to a pandas dataframe\n",
    "df_all_atts = pd.json_normalize(tweets_json(tweets))\n",
    "df_all_atts.head()"
   ]
  },
  {
   "cell_type": "markdown",
   "metadata": {},
   "source": [
    "## Step 5. Write data frame to s3\n",
    "\n",
    "We have the data frame, now we want to save the data frame on s3. We want to save the data frame in format parquet. Because it has an integrated schema."
   ]
  },
  {
   "cell_type": "markdown",
   "metadata": {},
   "source": [
    "### 5.1 Configure s3 connection\n",
    "\n",
    "Here we will set the s3 credential and the output path of the parquet file. As we will generate a parquet file each day. We would like to have the generation date inside the file name.\n"
   ]
  },
  {
   "cell_type": "code",
   "execution_count": 78,
   "metadata": {},
   "outputs": [],
   "source": [
    "endpoint = os.environ['AWS_S3_ENDPOINT']\n",
    "bucket = \"pengfei\"\n",
    "current_date=date.today().strftime(\"%d-%m-%Y\")\n",
    "output_path = f\"diffusion/demo_prod/tweet_{current_date}\"\n"
   ]
  },
  {
   "cell_type": "markdown",
   "metadata": {},
   "source": [
    "### 5.2 Write df to s3 as parquet file"
   ]
  },
  {
   "cell_type": "code",
   "execution_count": 79,
   "metadata": {},
   "outputs": [],
   "source": [
    "# This function write a pandas dataframe to s3 in parquet format\n",
    "def write_df_to_s3(df, endpoint, bucket_name, path):\n",
    "    # Convert pandas df to Arrow table\n",
    "    table = pa.Table.from_pandas(df)\n",
    "    url = f\"https://{endpoint}\"\n",
    "    fs = s3fs.S3FileSystem(client_kwargs={'endpoint_url': url})\n",
    "    file_uri = f\"{bucket_name}/{path}\"\n",
    "    pq.write_to_dataset(table, root_path=file_uri, filesystem=fs)"
   ]
  },
  {
   "cell_type": "code",
   "execution_count": 80,
   "metadata": {},
   "outputs": [],
   "source": [
    "write_df_to_s3(df,endpoint,bucket,output_path)"
   ]
  },
  {
   "cell_type": "markdown",
   "metadata": {},
   "source": [
    "## 6. Test the output parquet file"
   ]
  },
  {
   "cell_type": "code",
   "execution_count": 81,
   "metadata": {},
   "outputs": [],
   "source": [
    "# This function read a parquet file and return a arrow table\n",
    "def read_parquet_from_s3(endpoint: str, bucket_name, path):\n",
    "    url = f\"https://{endpoint}\"\n",
    "    fs = s3fs.S3FileSystem(client_kwargs={'endpoint_url': url})\n",
    "    file_uri = f\"{bucket_name}/{path}\"\n",
    "    str_info = fs.info(file_uri)\n",
    "    print(f\"input file metadata: {str_info}\")\n",
    "    dataset = pq.ParquetDataset(file_uri, filesystem=fs)\n",
    "    table = dataset.read()\n",
    "    return table"
   ]
  },
  {
   "cell_type": "code",
   "execution_count": 84,
   "metadata": {},
   "outputs": [
    {
     "name": "stdout",
     "output_type": "stream",
     "text": [
      "input file metadata: {'name': 'pengfei/diffusion/demo_prod/tweet_24-11-2021', 'size': 0, 'type': 'directory'}\n"
     ]
    },
    {
     "data": {
      "text/html": [
       "<div>\n",
       "<style scoped>\n",
       "    .dataframe tbody tr th:only-of-type {\n",
       "        vertical-align: middle;\n",
       "    }\n",
       "\n",
       "    .dataframe tbody tr th {\n",
       "        vertical-align: top;\n",
       "    }\n",
       "\n",
       "    .dataframe thead th {\n",
       "        text-align: right;\n",
       "    }\n",
       "</style>\n",
       "<table border=\"1\" class=\"dataframe\">\n",
       "  <thead>\n",
       "    <tr style=\"text-align: right;\">\n",
       "      <th></th>\n",
       "      <th>name</th>\n",
       "      <th>date</th>\n",
       "      <th>text</th>\n",
       "    </tr>\n",
       "  </thead>\n",
       "  <tbody>\n",
       "    <tr>\n",
       "      <th>0</th>\n",
       "      <td>V. RICHES-FLORES</td>\n",
       "      <td>Wed Nov 24 13:38:12 +0000 2021</td>\n",
       "      <td>https://t.co/2nt1wV9P6U\\nRFR - L’inflation arr...</td>\n",
       "    </tr>\n",
       "    <tr>\n",
       "      <th>1</th>\n",
       "      <td>Drecfire 🥕🥕🥕</td>\n",
       "      <td>Wed Nov 24 12:57:15 +0000 2021</td>\n",
       "      <td>RT @blaisegrenier: Nous ferons un point d'ici ...</td>\n",
       "    </tr>\n",
       "    <tr>\n",
       "      <th>2</th>\n",
       "      <td>Takeo</td>\n",
       "      <td>Wed Nov 24 11:30:40 +0000 2021</td>\n",
       "      <td>Nous ferons un point d'ici quelques temps en c...</td>\n",
       "    </tr>\n",
       "    <tr>\n",
       "      <th>3</th>\n",
       "      <td>Thierry Bès</td>\n",
       "      <td>Wed Nov 24 10:16:40 +0000 2021</td>\n",
       "      <td>RT @RichardEudes: En novembre 2021, le climat ...</td>\n",
       "    </tr>\n",
       "    <tr>\n",
       "      <th>4</th>\n",
       "      <td>Ellisphere</td>\n",
       "      <td>Wed Nov 24 08:12:08 +0000 2021</td>\n",
       "      <td>RT @RichardEudes: En novembre 2021, le climat ...</td>\n",
       "    </tr>\n",
       "  </tbody>\n",
       "</table>\n",
       "</div>"
      ],
      "text/plain": [
       "               name                            date  \\\n",
       "0  V. RICHES-FLORES  Wed Nov 24 13:38:12 +0000 2021   \n",
       "1      Drecfire 🥕🥕🥕  Wed Nov 24 12:57:15 +0000 2021   \n",
       "2             Takeo  Wed Nov 24 11:30:40 +0000 2021   \n",
       "3       Thierry Bès  Wed Nov 24 10:16:40 +0000 2021   \n",
       "4        Ellisphere  Wed Nov 24 08:12:08 +0000 2021   \n",
       "\n",
       "                                                text  \n",
       "0  https://t.co/2nt1wV9P6U\\nRFR - L’inflation arr...  \n",
       "1  RT @blaisegrenier: Nous ferons un point d'ici ...  \n",
       "2  Nous ferons un point d'ici quelques temps en c...  \n",
       "3  RT @RichardEudes: En novembre 2021, le climat ...  \n",
       "4  RT @RichardEudes: En novembre 2021, le climat ...  "
      ]
     },
     "execution_count": 84,
     "metadata": {},
     "output_type": "execute_result"
    }
   ],
   "source": [
    "arrow_table=read_parquet_from_s3(endpoint,bucket,output_path)\n",
    "\n",
    "# Convert back to pandas\n",
    "df_new = arrow_table.to_pandas()\n",
    "df_new.head()"
   ]
  },
  {
   "cell_type": "code",
   "execution_count": null,
   "metadata": {},
   "outputs": [],
   "source": []
  }
 ],
 "metadata": {
  "kernelspec": {
   "display_name": "Python 3 (ipykernel)",
   "language": "python",
   "name": "python3"
  },
  "language_info": {
   "codemirror_mode": {
    "name": "ipython",
    "version": 3
   },
   "file_extension": ".py",
   "mimetype": "text/x-python",
   "name": "python",
   "nbconvert_exporter": "python",
   "pygments_lexer": "ipython3",
   "version": "3.9.7"
  }
 },
 "nbformat": 4,
 "nbformat_minor": 4
}
